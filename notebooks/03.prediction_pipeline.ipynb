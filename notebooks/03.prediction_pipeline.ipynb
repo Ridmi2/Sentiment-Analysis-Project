{
 "cells": [
  {
   "cell_type": "code",
   "execution_count": 1,
   "id": "3f997b3c-f88c-49d2-9fc1-57143445b41f",
   "metadata": {},
   "outputs": [],
   "source": [
    "import numpy as np\n",
    "import pandas as pd\n",
    "import re\n",
    "import string"
   ]
  },
  {
   "cell_type": "code",
   "execution_count": 2,
   "id": "083ecc1c-1e3b-46f7-8e22-ff1146fc361f",
   "metadata": {},
   "outputs": [],
   "source": [
    "def remove_punctuation(text):\n",
    "    for punctuation in string.punctuation:\n",
    "        text = text.replace(punctuation,'')\n",
    "    return text"
   ]
  },
  {
   "cell_type": "code",
   "execution_count": 3,
   "id": "f39f0775-d258-4f5d-8aeb-d76cae0fd213",
   "metadata": {},
   "outputs": [],
   "source": [
    "#import the stopword we gain for english\n",
    "with open ('../static/model/corpora/stopwords/english','r') as file:\n",
    "    sw = file.read().splitlines()"
   ]
  },
  {
   "cell_type": "code",
   "execution_count": 4,
   "id": "7867aed2-ecf5-4705-87e6-f8ba73c296e1",
   "metadata": {},
   "outputs": [],
   "source": [
    "import pickle\n",
    "with open('../static/model/model.pickle','rb')as f:\n",
    "   model =  pickle.load(f)"
   ]
  },
  {
   "cell_type": "code",
   "execution_count": 5,
   "id": "df7981d6-7920-4614-b133-8716d128a0b6",
   "metadata": {},
   "outputs": [],
   "source": [
    "vocab = pd.read_csv(\"../static/model/vocabulary.txt\",header = None)\n",
    "tokens = vocab[0].tolist()"
   ]
  },
  {
   "cell_type": "code",
   "execution_count": 6,
   "id": "c668d526-aff3-41a4-a269-9368c9562bb5",
   "metadata": {},
   "outputs": [],
   "source": [
    "from nltk.stem import PorterStemmer\n",
    "ps = PorterStemmer()"
   ]
  },
  {
   "cell_type": "code",
   "execution_count": 7,
   "id": "28ac4ee7-4678-4f08-830a-397813c1e287",
   "metadata": {},
   "outputs": [
    {
     "name": "stderr",
     "output_type": "stream",
     "text": [
      "<>:6: SyntaxWarning: invalid escape sequence '\\d'\n",
      "<>:6: SyntaxWarning: invalid escape sequence '\\d'\n",
      "C:\\Users\\Ridmi\\AppData\\Local\\Temp\\ipykernel_5212\\2199400257.py:6: SyntaxWarning: invalid escape sequence '\\d'\n",
      "  data['tweet'] = data['tweet'].str.replace('\\d+','',regex=True)\n"
     ]
    }
   ],
   "source": [
    "def preprocessing(text):\n",
    "    data =pd.DataFrame([text],columns =['tweet'])           \n",
    "    data['tweet'] = data['tweet'].apply(lambda x: \" \".join(x.lower()for x in x.split()))\n",
    "    data['tweet'] = data['tweet'].apply(lambda x: \" \".join(re.sub(r'^https?:\\/\\/.*[\\r\\n]*','',x,flags=re.MULTILINE)for x in x.split()))\n",
    "    data['tweet'] = data['tweet'].apply(remove_punctuation)   \n",
    "    data['tweet'] = data['tweet'].str.replace('\\d+','',regex=True)\n",
    "    data['tweet'] = data['tweet'].apply(lambda x: \" \".join(x for x in x.split() if x not in sw))\n",
    "    data['tweet'] = data['tweet'].apply(lambda x: \" \".join(ps.stem(x)  for x in x.split()))\n",
    "    return data['tweet']"
   ]
  },
  {
   "cell_type": "code",
   "execution_count": 8,
   "id": "4686d1a1-3d47-4393-8366-a68415130fba",
   "metadata": {},
   "outputs": [],
   "source": [
    "import numpy as np\n",
    "\n",
    "def vectorizer(ds, vocabulary):\n",
    "    vectorized_lst = []\n",
    "    \n",
    "    for sentence in ds:\n",
    "        sentence_lst = np.zeros(len(vocabulary))\n",
    "        \n",
    "        for i in range(len(vocabulary)):\n",
    "            if vocabulary[i] in sentence.split():\n",
    "                sentence_lst[i] = 1\n",
    "        \n",
    "        vectorized_lst.append(sentence_lst)\n",
    "    \n",
    "    vectorized_lst_new = np.asarray(vectorized_lst, dtype=np.float32)\n",
    "    return vectorized_lst_new"
   ]
  },
  {
   "cell_type": "code",
   "execution_count": 12,
   "id": "28e85b1e-3053-4e55-b6d0-370d6786a709",
   "metadata": {},
   "outputs": [],
   "source": [
    "def get_prediction(vectorized_text):\n",
    "    prediction = model.predict(vectorized_text)\n",
    "    if prediction == 1:\n",
    "        prediction = \"negative\"\n",
    "    else:\n",
    "        prediction = \"positive\"    \n",
    "    return prediction"
   ]
  },
  {
   "cell_type": "code",
   "execution_count": 13,
   "id": "85a7116b-3acd-43ca-bbf3-007cc04efce4",
   "metadata": {},
   "outputs": [
    {
     "data": {
      "text/plain": [
       "array([1])"
      ]
     },
     "execution_count": 13,
     "metadata": {},
     "output_type": "execute_result"
    }
   ],
   "source": [
    "txt = \"bad product. I hate it\"\n",
    "preprocessed_txt = preprocessing(txt)\n",
    "vectorized_txt = vectorizer(preprocessed_txt,tokens)\n",
    "prediction = model.predict(vectorized_txt)\n",
    "prediction"
   ]
  },
  {
   "cell_type": "code",
   "execution_count": 14,
   "id": "413ed2e0-1f08-42a0-8ead-3450a0b54465",
   "metadata": {},
   "outputs": [
    {
     "data": {
      "text/plain": [
       "array([0])"
      ]
     },
     "execution_count": 14,
     "metadata": {},
     "output_type": "execute_result"
    }
   ],
   "source": [
    "txt = \"awesome product. I love it\"\n",
    "preprocessed_txt = preprocessing(txt)\n",
    "vectorized_txt = vectorizer(preprocessed_txt,tokens)\n",
    "prediction = model.predict(vectorized_txt)\n",
    "prediction"
   ]
  },
  {
   "cell_type": "code",
   "execution_count": null,
   "id": "d1f2de05-87a4-4ab8-8493-f8dd92c243bf",
   "metadata": {},
   "outputs": [],
   "source": []
  }
 ],
 "metadata": {
  "kernelspec": {
   "display_name": "Python 3 (ipykernel)",
   "language": "python",
   "name": "python3"
  },
  "language_info": {
   "codemirror_mode": {
    "name": "ipython",
    "version": 3
   },
   "file_extension": ".py",
   "mimetype": "text/x-python",
   "name": "python",
   "nbconvert_exporter": "python",
   "pygments_lexer": "ipython3",
   "version": "3.13.5"
  }
 },
 "nbformat": 4,
 "nbformat_minor": 5
}
